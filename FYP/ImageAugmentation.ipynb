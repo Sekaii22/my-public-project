{
 "cells": [
  {
   "cell_type": "markdown",
   "metadata": {},
   "source": [
    "https://albumentations.ai/docs/getting_started/mask_augmentation/"
   ]
  },
  {
   "cell_type": "code",
   "execution_count": 1,
   "metadata": {},
   "outputs": [],
   "source": [
    "import albumentations as A\n",
    "import cv2\n",
    "import os\n",
    "import random"
   ]
  },
  {
   "cell_type": "code",
   "execution_count": 47,
   "metadata": {},
   "outputs": [],
   "source": [
    "image_to_generate = 1000\n",
    "\n",
    "# folder paths\n",
    "images_path = \"F:/Images/512x512_images/afm_black/\"\n",
    "masks_path = \"F:/Images/masks/afm_black/\"\n",
    "img_augmented_path = \"F:/Images/augmented/aug_images/\"\n",
    "mask_augmented_path = \"F:/Images/augmented/aug_masks/\""
   ]
  },
  {
   "cell_type": "code",
   "execution_count": 48,
   "metadata": {},
   "outputs": [],
   "source": [
    "# to store paths of images from folder\n",
    "images = []\n",
    "masks= []\n",
    "\n",
    "for im in sorted(os.listdir(images_path))[:-1]:\n",
    "    images.append(os.path.join(images_path, im))\n",
    "\n",
    "for msk in sorted(os.listdir(masks_path))[:-1]:\n",
    "    masks.append(os.path.join(masks_path, msk))"
   ]
  },
  {
   "cell_type": "code",
   "execution_count": 49,
   "metadata": {},
   "outputs": [
    {
     "name": "stdout",
     "output_type": "stream",
     "text": [
      "['F:/Images/512x512_images/afm_black/afm_black_1.png', 'F:/Images/512x512_images/afm_black/afm_black_2.png', 'F:/Images/512x512_images/afm_black/afm_black_3.png']\n",
      "['F:/Images/masks/afm_black/afm_black_1.png', 'F:/Images/masks/afm_black/afm_black_2.png', 'F:/Images/masks/afm_black/afm_black_3.png']\n"
     ]
    }
   ],
   "source": [
    "print(images)\n",
    "print(masks)"
   ]
  },
  {
   "cell_type": "code",
   "execution_count": 50,
   "metadata": {},
   "outputs": [],
   "source": [
    "# define augmentation pipeline\n",
    "aug = A.Compose([\n",
    "    A.VerticalFlip(p=0.5),\n",
    "    A.HorizontalFlip(p=0.5),\n",
    "    A.RandomRotate90(p=0.5),\n",
    "    A.Transpose(p=1),\n",
    "    A.RandomSizedCrop(min_max_height=(384,384), height=512, width=512, p=0.5),\n",
    "    A.GridDistortion(p=1),\n",
    "    A.ElasticTransform(p=0.5),\n",
    "    A.GaussNoise(p=0.5),\n",
    "])\n"
   ]
  },
  {
   "cell_type": "code",
   "execution_count": 51,
   "metadata": {},
   "outputs": [],
   "source": [
    "for i in range(1, image_to_generate+1):\n",
    "    # pick random image and mask\n",
    "    randnum = random.randint(0, len(images)-1)\n",
    "    image = images[randnum]\n",
    "    mask = masks[randnum]\n",
    "\n",
    "    # load image and mask\n",
    "    original_image = cv2.imread(image)\n",
    "    original_mask = cv2.imread(mask)\n",
    "\n",
    "    # augmentation\n",
    "    augmented = aug(image=original_image, mask=original_mask)\n",
    "    transformed_image = augmented[\"image\"]\n",
    "    transformed_mask = augmented[\"mask\"]\n",
    "\n",
    "    # save augmented image and mask\n",
    "    new_image_path = f\"{img_augmented_path}/augmented_image_{i}.png\"\n",
    "    new_mask_path = f\"{mask_augmented_path}/augmented_mask_{i}.png\"\n",
    "    cv2.imwrite(new_image_path, transformed_image)\n",
    "    cv2.imwrite(new_mask_path, transformed_mask)"
   ]
  }
 ],
 "metadata": {
  "kernelspec": {
   "display_name": "Python 3.7.11 ('ds37')",
   "language": "python",
   "name": "python3"
  },
  "language_info": {
   "codemirror_mode": {
    "name": "ipython",
    "version": 3
   },
   "file_extension": ".py",
   "mimetype": "text/x-python",
   "name": "python",
   "nbconvert_exporter": "python",
   "pygments_lexer": "ipython3",
   "version": "3.7.11 (default, Jul 27 2021, 09:42:29) [MSC v.1916 64 bit (AMD64)]"
  },
  "orig_nbformat": 4,
  "vscode": {
   "interpreter": {
    "hash": "d9b616680b14b02dda7b323e832fe29caf88b1e81da2fd46efc4a10732cdedc3"
   }
  }
 },
 "nbformat": 4,
 "nbformat_minor": 2
}
